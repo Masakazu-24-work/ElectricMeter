{
 "cells": [
  {
   "cell_type": "code",
   "execution_count": 2,
   "metadata": {},
   "outputs": [],
   "source": [
    "import pandas as pd\n",
    "import networkx as nx\n",
    "import openpyxl\n",
    "import matplotlib.pyplot as plt"
   ]
  },
  {
   "cell_type": "code",
   "execution_count": 4,
   "metadata": {},
   "outputs": [],
   "source": [
    "# 単価テーブル\n",
    "unit_price = pd.read_excel('ブレーカ調査/CT単価表.xlsx', sheet_name='Sheet1')"
   ]
  },
  {
   "cell_type": "code",
   "execution_count": 6,
   "metadata": {},
   "outputs": [],
   "source": [
    "# 案1_30A以上\n",
    "case_1 = pd.read_excel('ブレーカ調査/案1_30A以上.xlsx', sheet_name='Sheet1')"
   ]
  },
  {
   "cell_type": "code",
   "execution_count": 7,
   "metadata": {},
   "outputs": [],
   "source": [
    "# 必要CT数\n",
    "line_num = pd.read_excel('ブレーカ調査/必要CT数.xlsx', sheet_name='Sheet1')"
   ]
  },
  {
   "cell_type": "markdown",
   "metadata": {},
   "source": [
    "必要CT数とCT代計算"
   ]
  },
  {
   "cell_type": "code",
   "execution_count": 52,
   "metadata": {},
   "outputs": [],
   "source": [
    "for index, row in case_1.iterrows():\n",
    "    if row['電力量計\\n取付対象']==1:\n",
    "        volt_str = row['電圧\\n200/100']\n",
    "        try:\n",
    "            volt = int(volt_str)\n",
    "        except:\n",
    "            if volt_str == '200/100':\n",
    "                volt = 200\n",
    "            else:\n",
    "                volt = None\n",
    "        phase_str = row['相\\n3/1']\n",
    "        try:\n",
    "            phase = int(phase_str)\n",
    "        except:\n",
    "            phase = None\n",
    "        current_str = row['ﾌﾞﾚｰｶ容量\\nA']\n",
    "        try:\n",
    "            current = int(current_str)\n",
    "        except:\n",
    "            current = None\n",
    "        diameter_str = row['ｹｰﾌﾞﾙ径\\nmm']\n",
    "        try:\n",
    "            diameter = int(diameter_str)\n",
    "        except:\n",
    "            diameter = None\n",
    "        line = int(row['線'])\n",
    "        \n",
    "        filtered = unit_price[(unit_price['最大線径[mm]'] >= diameter) & (unit_price['1次側定格電流[A]'] >= current)]\n",
    "        if not filtered.empty:\n",
    "            case_1.at[index,'型番'] = filtered.iloc[0]['型番']\n",
    "            case_1.at[index,'単価'] = filtered.iloc[0]['単価']\n",
    "        else:\n",
    "            print('Not Found:', row['No.'],diameter,current)\n",
    "            case_1.at[index,'型番'] = None\n",
    "            case_1.at[index,'単価'] = None\n",
    "        filtered_ct_num = line_num[(line_num['相'] == phase) & (line_num['線'] == line)]\n",
    "        if not filtered_ct_num.empty:\n",
    "            case_1.at[index,'必要CT数'] = filtered_ct_num.iloc[0]['必要CT数']\n",
    "        else:\n",
    "            print('Not Found:', row['No.'],phase,line)\n",
    "            case_1.at[index,'必要CT数'] = None\n",
    "case_1['小計'] = case_1['単価'] * case_1['必要CT数']\n",
    "\n"
   ]
  },
  {
   "cell_type": "markdown",
   "metadata": {},
   "source": [
    "CTはそろったので、必要な電力計数を算出したい"
   ]
  },
  {
   "cell_type": "code",
   "execution_count": null,
   "metadata": {},
   "outputs": [],
   "source": [
    "\n",
    "\n"
   ]
  },
  {
   "cell_type": "code",
   "execution_count": 58,
   "metadata": {},
   "outputs": [
    {
     "data": {
      "text/plain": [
       "Index(['No.', '建屋', '階', '部屋名', '部署', '分電盤\\nNo.', '分電盤名', '親分電盤\\n(あれば)',\n",
       "       '電力量計\\nあり/なし', 'ﾌﾞﾚｰｶ番号\\n(あれば)', '電圧\\n200/100', '相\\n3/1', 'ﾌﾞﾚｰｶ容量\\nA',\n",
       "       '負荷名', 'ｹｰﾌﾞﾙ径\\nmm', '備考', '電力量計\\n取付対象', '線', '型番', '単価', '必要CT数', '小計',\n",
       "       '電力計', '電力計単価', 'M5Stack', 'M5Stack単価'],\n",
       "      dtype='object')"
      ]
     },
     "execution_count": 58,
     "metadata": {},
     "output_type": "execute_result"
    }
   ],
   "source": [
    "case_1.columns"
   ]
  },
  {
   "cell_type": "code",
   "execution_count": 59,
   "metadata": {},
   "outputs": [
    {
     "name": "stdout",
     "output_type": "stream",
     "text": [
      "L33-1A\n",
      "2\n",
      "M33-1A\n",
      "7\n",
      "M33-1W\n",
      "12\n",
      "M33-1W-1盤\n",
      "14\n",
      "排気ﾌｧﾝ操作盤\n",
      "14\n",
      "ﾎﾙﾀﾞ測定室分電盤\n",
      "14\n",
      "M33-1H(左)\n",
      "16\n",
      "電源盤\n",
      "18\n",
      "動力盤B\n",
      "20\n",
      "動力盤C\n",
      "21\n",
      "M33-1H(右)\n",
      "22\n",
      "M33-1I\n",
      "24\n",
      "ﾌｧﾝ制御盤\n",
      "26\n",
      "M33-1G\n",
      "27\n",
      "M33-1J\n",
      "28\n",
      "M33-1K\n",
      "33\n",
      "M33-1K-1\n",
      "35\n",
      "空調ｴｱﾊﾝ運転盤\n",
      "36\n",
      "工具1F動力M-1(左)\n",
      "36\n",
      "工具1F動力M-2(中)\n",
      "36\n",
      "工具1F動力M-3(右)\n",
      "36\n",
      "M33-1J-1(1)\n",
      "40\n",
      "恒温ﾌﾞｰｽ用動力盤\n",
      "42\n",
      "M33-1J-1(2)\n",
      "47\n",
      "M33-1B\n",
      "51\n",
      "M33-1B-1\n",
      "53\n",
      "L33-1B\n",
      "54\n",
      "動力盤D\n",
      "55\n",
      "M33-1L\n",
      "58\n",
      "M33-1N(A)\n",
      "59\n",
      "M33-1N(B)\n",
      "62\n",
      "M33-1F\n",
      "64\n",
      "1L-1\n",
      "65\n",
      "1M-1\n",
      "69\n",
      "動力盤1M-1-1\n",
      "71\n",
      "L33-2A(左)\n",
      "72\n",
      "L33-2A(右)\n",
      "72\n",
      "M33-2A\n",
      "73\n",
      "L33-2E\n",
      "74\n",
      "M33-2F\n",
      "95\n",
      "洗浄機盤\n",
      "96\n",
      "局所排気設備制御盤電源盤\n",
      "96\n",
      "局所排気設備制御盤\n",
      "98\n",
      "ﾀﾞｸﾄﾌｧﾝ操作盤\n",
      "98\n",
      "ﾜｲﾔｰ加工電源盤\n",
      "102\n",
      "排熱ﾀﾞｸﾄ盤\n",
      "102\n",
      "PAC-1\n",
      "103\n",
      "動力分電盤\n",
      "104\n",
      "2L-1\n",
      "105\n",
      "L33-3A\n",
      "107\n",
      "M33-3A\n",
      "108\n",
      "L33-3(検査)\n",
      "109\n",
      "M33-31(NT)\n",
      "112\n",
      "M33-3(再研)\n",
      "113\n",
      "M33-3-1(再研)\n",
      "113\n",
      "3L-1\n",
      "114\n",
      "M33-3B\n",
      "116\n",
      "ML33-4A\n",
      "117\n",
      "M33-4D\n",
      "119\n",
      "工具EHP→工具空調機動力盤\n",
      "122\n",
      "工具電灯関係\n",
      "122\n",
      "熱源制御盤\n",
      "122\n",
      "L-1南側外灯電源盤\n",
      "123\n",
      "局所排気装置動力盤\n",
      "124\n",
      "空調動力盤\n",
      "124\n",
      "工具ﾚｲｱｳﾄA盤\n",
      "125\n",
      "工具ﾚｲｱｳﾄB盤\n",
      "128\n",
      "工具M-1\n",
      "141\n",
      "工具FAN制御盤\n",
      "142\n",
      "盤名なし\n",
      "143\n",
      "工具M-1-2\n",
      "146\n",
      "工具L-1\n",
      "147\n",
      "ML-30\n",
      "151\n",
      "局所排気制御盤\n",
      "152\n",
      "ML-2\n",
      "159\n",
      "動力盤A\n",
      "160\n",
      "工具L-2\n",
      "161\n",
      "SE-3 B盤\n",
      "163\n",
      "SE-3 A盤\n",
      "169\n",
      "手元開閉盤\n",
      "169\n",
      "電灯盤L-2\n",
      "170\n",
      "ﾚｰｽｳｪｲ分電盤\n",
      "171\n",
      "電灯盤ML-B.C.D\n",
      "173\n"
     ]
    }
   ],
   "source": [
    "# 電力計の連番を振るためのカウンタ\n",
    "power_meter_counter = 1\n",
    "\n",
    "# 電力計の連番を格納するリスト\n",
    "power_meter_list = []\n",
    "\n",
    "panel_name_unique = case_1['分電盤名'].unique()\n",
    "\n",
    "# 分電盤ごとに処理を行う\n",
    "for panel in panel_name_unique:\n",
    "    print(panel)\n",
    "    panel_data = case_1[case_1['分電盤名'] == panel].reset_index(drop=True)\n",
    "    ct_count = 0\n",
    "    for index, row in panel_data.iterrows():\n",
    "        if pd.notnull(row['必要CT数']):\n",
    "            ct_count += row['必要CT数']\n",
    "            if ct_count <= 4:\n",
    "                power_meter_list.append(f'電力計_{power_meter_counter}')\n",
    "            else:\n",
    "                power_meter_counter += 1\n",
    "                ct_count = row['必要CT数']\n",
    "                power_meter_list.append(f'電力計_{power_meter_counter}')\n",
    "        else:\n",
    "            power_meter_list.append(None)\n",
    "    if panel_data['電力量計\\n取付対象'].sum() > 0:\n",
    "        power_meter_counter += 1\n",
    "\n",
    "    if power_meter_counter == 37:\n",
    "        print('HIT')\n",
    "    print(power_meter_counter)\n",
    "\n",
    "# 電力計の連番をデータフレームに追加\n",
    "case_1['電力計'] = power_meter_list\n"
   ]
  },
  {
   "cell_type": "code",
   "execution_count": 16,
   "metadata": {},
   "outputs": [],
   "source": [
    "del case_1['電力計単価']"
   ]
  },
  {
   "cell_type": "code",
   "execution_count": 18,
   "metadata": {},
   "outputs": [],
   "source": [
    "filled = []\n",
    "for index,row in case_1.iterrows():\n",
    "    if pd.notnull(row['電力計']):\n",
    "        if not row['電力計'] in filled:\n",
    "            filled.append(row['電力計'])\n",
    "            case_1.at[index,'電力計単価'] = 11640\n"
   ]
  },
  {
   "cell_type": "code",
   "execution_count": 20,
   "metadata": {},
   "outputs": [
    {
     "data": {
      "text/plain": [
       "2092820"
      ]
     },
     "execution_count": 20,
     "metadata": {},
     "output_type": "execute_result"
    }
   ],
   "source": [
    "int(case_1['小計'].sum())"
   ]
  },
  {
   "cell_type": "code",
   "execution_count": 21,
   "metadata": {},
   "outputs": [
    {
     "data": {
      "text/plain": [
       "2002080"
      ]
     },
     "execution_count": 21,
     "metadata": {},
     "output_type": "execute_result"
    }
   ],
   "source": [
    "int(case_1['電力計単価'].sum())"
   ]
  },
  {
   "cell_type": "code",
   "execution_count": null,
   "metadata": {},
   "outputs": [
    {
     "data": {
      "text/plain": [
       "4094900"
      ]
     },
     "execution_count": 26,
     "metadata": {},
     "output_type": "execute_result"
    }
   ],
   "source": []
  },
  {
   "cell_type": "code",
   "execution_count": 60,
   "metadata": {},
   "outputs": [],
   "source": [
    "# M5Stackの連番を振るためのカウンタ\n",
    "m5stack_counter = 1\n",
    "\n",
    "# M5Stackの連番を格納するリスト\n",
    "m5stack_list = []\n",
    "\n",
    "# 分電盤ごとに処理を行う\n",
    "for panel in case_1['分電盤名'].unique():\n",
    "    panel_data = case_1[case_1['分電盤名'] == panel]\n",
    "    power_meter_count = 0\n",
    "    for index, row in panel_data.iterrows():\n",
    "        if pd.notnull(row['電力計']):\n",
    "            power_meter_count += 1\n",
    "            if power_meter_count > 2:\n",
    "                m5stack_counter += 1\n",
    "                power_meter_count = 1\n",
    "            m5stack_list.append(f'M5Stack_{m5stack_counter}')\n",
    "        else:\n",
    "            m5stack_list.append(None)\n",
    "    if panel_data['電力量計\\n取付対象'].sum() > 0:\n",
    "        m5stack_counter += 1\n",
    "\n",
    "# M5Stackの連番をデータフレームに追加\n",
    "case_1['M5Stack'] = m5stack_list"
   ]
  },
  {
   "cell_type": "code",
   "execution_count": 61,
   "metadata": {},
   "outputs": [],
   "source": [
    "filled = []\n",
    "for index,row in case_1.iterrows():\n",
    "    if pd.notnull(row['M5Stack']):\n",
    "        if not row['M5Stack'] in filled:\n",
    "            filled.append(row['M5Stack'])\n",
    "            case_1.at[index,'M5Stack単価'] = 7000"
   ]
  },
  {
   "cell_type": "code",
   "execution_count": 65,
   "metadata": {},
   "outputs": [
    {
     "data": {
      "text/plain": [
       "2092820"
      ]
     },
     "execution_count": 65,
     "metadata": {},
     "output_type": "execute_result"
    }
   ],
   "source": [
    "int(case_1['小計'].sum())"
   ]
  },
  {
   "cell_type": "code",
   "execution_count": 63,
   "metadata": {},
   "outputs": [
    {
     "data": {
      "text/plain": [
       "2002080"
      ]
     },
     "execution_count": 63,
     "metadata": {},
     "output_type": "execute_result"
    }
   ],
   "source": [
    "int(case_1['電力計単価'].sum())"
   ]
  },
  {
   "cell_type": "code",
   "execution_count": 64,
   "metadata": {},
   "outputs": [
    {
     "data": {
      "text/plain": [
       "1211000"
      ]
     },
     "execution_count": 64,
     "metadata": {},
     "output_type": "execute_result"
    }
   ],
   "source": [
    "int(case_1['M5Stack単価'].sum())"
   ]
  },
  {
   "cell_type": "code",
   "execution_count": 32,
   "metadata": {},
   "outputs": [],
   "source": [
    "case_1.to_excel('ブレーカ調査/案1_30A以上_計算結果.xlsx', index=False)"
   ]
  },
  {
   "cell_type": "code",
   "execution_count": 66,
   "metadata": {},
   "outputs": [
    {
     "name": "stdout",
     "output_type": "stream",
     "text": [
      "型番\n",
      "M-NCT-5A/50A    147\n",
      "KM-NCT-225A      76\n",
      "KM-NCT-100A      63\n",
      "KM-NCT-400A      25\n",
      "KM-NCT-600A       1\n",
      "Name: count, dtype: int64\n",
      "型番\n",
      "KM-NCT-100A     125.0\n",
      "KM-NCT-225A     152.0\n",
      "KM-NCT-400A      49.0\n",
      "KM-NCT-600A       2.0\n",
      "M-NCT-5A/50A    289.0\n",
      "Name: 必要CT数, dtype: float64\n"
     ]
    }
   ],
   "source": [
    "# 型番ごとの必要数をカウント\n",
    "model_counts = case_1['型番'].value_counts()\n",
    "\n",
    "# 結果を表示\n",
    "print(model_counts)\n",
    "# 型番ごとの必要数量を計算\n",
    "model_total_counts = case_1.groupby('型番')['必要CT数'].sum()\n",
    "\n",
    "# 結果を表示\n",
    "print(model_total_counts)"
   ]
  },
  {
   "cell_type": "code",
   "execution_count": 69,
   "metadata": {},
   "outputs": [
    {
     "data": {
      "text/plain": [
       "np.int64(147)"
      ]
     },
     "execution_count": 69,
     "metadata": {},
     "output_type": "execute_result"
    }
   ],
   "source": [
    "case_1['型番'][case_1['型番'] == 'M-NCT-5A/50A'].count()"
   ]
  },
  {
   "cell_type": "code",
   "execution_count": 71,
   "metadata": {},
   "outputs": [
    {
     "data": {
      "text/plain": [
       "array(['KM-NCT-100A', nan, 'KM-NCT-225A', 'M-NCT-5A/50A', 'KM-NCT-400A',\n",
       "       'KM-NCT-600A'], dtype=object)"
      ]
     },
     "execution_count": 71,
     "metadata": {},
     "output_type": "execute_result"
    }
   ],
   "source": [
    "case_1['型番'].unique()"
   ]
  },
  {
   "cell_type": "code",
   "execution_count": 72,
   "metadata": {},
   "outputs": [
    {
     "name": "stdout",
     "output_type": "stream",
     "text": [
      "KM-NCT-100A\n",
      "125.0\n",
      "nan\n",
      "0.0\n",
      "KM-NCT-225A\n",
      "152.0\n",
      "M-NCT-5A/50A\n",
      "289.0\n",
      "KM-NCT-400A\n",
      "49.0\n",
      "KM-NCT-600A\n",
      "2.0\n"
     ]
    }
   ],
   "source": [
    "result =[]\n",
    "for model in case_1['型番'].unique():\n",
    "    print(model)\n",
    "    print(case_1['必要CT数'][case_1['型番'] == model].sum())\n",
    "    result.append([model,case_1['必要CT数'][case_1['型番'] == model].sum()])"
   ]
  },
  {
   "cell_type": "code",
   "execution_count": 74,
   "metadata": {},
   "outputs": [],
   "source": [
    "df = pd.DataFrame(result)"
   ]
  },
  {
   "cell_type": "code",
   "execution_count": 76,
   "metadata": {},
   "outputs": [],
   "source": [
    "case_1.to_excel('ブレーカ調査/案1_30A以上_計算結果_241205.xlsx', index=False)"
   ]
  },
  {
   "cell_type": "code",
   "execution_count": null,
   "metadata": {},
   "outputs": [],
   "source": []
  }
 ],
 "metadata": {
  "kernelspec": {
   "display_name": ".venv",
   "language": "python",
   "name": "python3"
  },
  "language_info": {
   "codemirror_mode": {
    "name": "ipython",
    "version": 3
   },
   "file_extension": ".py",
   "mimetype": "text/x-python",
   "name": "python",
   "nbconvert_exporter": "python",
   "pygments_lexer": "ipython3",
   "version": "3.10.6"
  }
 },
 "nbformat": 4,
 "nbformat_minor": 2
}
