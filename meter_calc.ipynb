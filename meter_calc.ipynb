{
 "cells": [
  {
   "cell_type": "code",
   "execution_count": 71,
   "metadata": {},
   "outputs": [],
   "source": [
    "import pandas as pd\n",
    "import networkx as nx\n",
    "import openpyxl\n",
    "import matplotlib.pyplot as plt"
   ]
  },
  {
   "cell_type": "code",
   "execution_count": 83,
   "metadata": {},
   "outputs": [],
   "source": [
    "# 単価テーブル\n",
    "unit_price = pd.read_excel('ブレーカ調査/CT単価表.xlsx', sheet_name='Sheet1')"
   ]
  },
  {
   "cell_type": "code",
   "execution_count": 84,
   "metadata": {},
   "outputs": [],
   "source": [
    "# 案2_主幹第1レイヤーのみ\n",
    "case_2 = pd.read_excel('ブレーカ調査/241211_ブレーカ調査_トップレイヤーのみ.xlsx', sheet_name='Sheet1', header=1)"
   ]
  },
  {
   "cell_type": "code",
   "execution_count": 85,
   "metadata": {},
   "outputs": [],
   "source": [
    "# 必要CT数\n",
    "line_num = pd.read_excel('ブレーカ調査/必要CT数.xlsx', sheet_name='Sheet1')"
   ]
  },
  {
   "cell_type": "code",
   "execution_count": 86,
   "metadata": {},
   "outputs": [
    {
     "data": {
      "text/plain": [
       "Index(['No.', '建屋', '階', '部屋名', '部署', '分電盤\\nNo.', '分電盤名', '親分電盤\\n(あれば)',\n",
       "       '電力量計\\nあり/なし', 'ﾌﾞﾚｰｶ番号\\n(あれば)', '電圧\\n200/100', '相\\n3/1', 'ﾌﾞﾚｰｶ容量\\nA',\n",
       "       '負荷名', 'ｹｰﾌﾞﾙ径\\nmm', '備考', '電力量計\\n取付対象', '線', '型番', '単価', '必要CT数', '小計',\n",
       "       '電力計', '電力計単価', 'M5Stack', 'M5Stack単価'],\n",
       "      dtype='object')"
      ]
     },
     "execution_count": 86,
     "metadata": {},
     "output_type": "execute_result"
    }
   ],
   "source": [
    "case_2.columns"
   ]
  },
  {
   "cell_type": "markdown",
   "metadata": {},
   "source": [
    "必要CT数とCT代計算"
   ]
  },
  {
   "cell_type": "code",
   "execution_count": 87,
   "metadata": {},
   "outputs": [],
   "source": [
    "for index, row in case_2.iterrows():\n",
    "    volt_str = row['電圧\\n200/100']\n",
    "    phase_str = row['相\\n3/1']\n",
    "    \n",
    "    try:\n",
    "        volt = int(volt_str)\n",
    "    except:\n",
    "        if volt_str == '200/100':\n",
    "            volt = 200\n",
    "        else:\n",
    "            volt = None\n",
    "    \n",
    "    try:\n",
    "        phase = int(phase_str)\n",
    "    except:\n",
    "        phase = None\n",
    "    \n",
    "    if volt == 100 or volt_str == '100/200':\n",
    "        case_2.at[index, '線'] = 2\n",
    "    elif volt == 200 and phase == 3:\n",
    "        case_2.at[index, '線'] = 3\n",
    "    elif volt == 200 and phase == 1:\n",
    "        case_2.at[index, '線'] = 2\n",
    "    else:\n",
    "        case_2.at[index, '線'] = 3"
   ]
  },
  {
   "cell_type": "code",
   "execution_count": 88,
   "metadata": {},
   "outputs": [
    {
     "name": "stdout",
     "output_type": "stream",
     "text": [
      "Not Found: nan 150 3\n"
     ]
    },
    {
     "name": "stderr",
     "output_type": "stream",
     "text": [
      "C:\\Users\\00160428630\\AppData\\Local\\Temp\\ipykernel_3596\\3658427982.py:30: FutureWarning: Setting an item of incompatible dtype is deprecated and will raise an error in a future version of pandas. Value 'KM-NCT-225A' has dtype incompatible with float64, please explicitly cast to a compatible dtype first.\n",
      "  case_2.at[index,'型番'] = filtered.iloc[0]['型番']\n"
     ]
    }
   ],
   "source": [
    "for index, row in case_2.iterrows():\n",
    "    if row['電力量計\\n取付対象']==1:\n",
    "        volt_str = row['電圧\\n200/100']\n",
    "        try:\n",
    "            volt = int(volt_str)\n",
    "        except:\n",
    "            if volt_str == '200/100':\n",
    "                volt = 200\n",
    "            else:\n",
    "                volt = None\n",
    "        phase_str = row['相\\n3/1']\n",
    "        try:\n",
    "            phase = int(phase_str)\n",
    "        except:\n",
    "            phase = None\n",
    "        current_str = row['ﾌﾞﾚｰｶ容量\\nA']\n",
    "        try:\n",
    "            current = int(current_str)\n",
    "        except:\n",
    "            current = None\n",
    "        diameter_str = row['ｹｰﾌﾞﾙ径\\nmm']\n",
    "        try:\n",
    "            diameter = int(diameter_str)\n",
    "        except:\n",
    "            diameter = None\n",
    "        line = int(row['線'])\n",
    "        \n",
    "        filtered = unit_price[(unit_price['最大線径[mm]'] >= diameter) & (unit_price['1次側定格電流[A]'] >= current)]\n",
    "        if not filtered.empty:\n",
    "            case_2.at[index,'型番'] = filtered.iloc[0]['型番']\n",
    "            case_2.at[index,'単価'] = filtered.iloc[0]['単価']\n",
    "        else:\n",
    "            print('Not Found:', row['No.'],diameter,current)\n",
    "            case_2.at[index,'型番'] = None\n",
    "            case_2.at[index,'単価'] = None\n",
    "        filtered_ct_num = line_num[(line_num['相'] == phase) & (line_num['線'] == line)]\n",
    "        if not filtered_ct_num.empty:\n",
    "            case_2.at[index,'必要CT数'] = filtered_ct_num.iloc[0]['必要CT数']\n",
    "        else:\n",
    "            print('Not Found:', row['No.'],phase,line)\n",
    "            case_2.at[index,'必要CT数'] = None\n",
    "case_2['小計'] = case_2['単価'] * case_2['必要CT数']\n",
    "\n"
   ]
  },
  {
   "cell_type": "code",
   "execution_count": 89,
   "metadata": {},
   "outputs": [
    {
     "name": "stdout",
     "output_type": "stream",
     "text": [
      "型番ごとの必要CT数:\n",
      "型番\n",
      "KM-NCT-100A     34.0\n",
      "KM-NCT-225A     61.0\n",
      "KM-NCT-400A     49.0\n",
      "KM-NCT-600A     12.0\n",
      "M-NCT-5A/50A    35.0\n",
      "Name: 必要CT数, dtype: float64\n",
      "\n",
      "型番ごとの金額:\n",
      "型番\n",
      "KM-NCT-100A     109480.0\n",
      "KM-NCT-225A     237900.0\n",
      "KM-NCT-400A     254800.0\n",
      "KM-NCT-600A      62400.0\n",
      "M-NCT-5A/50A    100800.0\n",
      "Name: 小計, dtype: float64\n"
     ]
    }
   ],
   "source": [
    "# 型番ごとの必要CT数と金額を計算\n",
    "model_ct_sum = case_2.groupby('型番')['必要CT数'].sum()\n",
    "model_price_sum = case_2.groupby('型番')['小計'].sum()\n",
    "\n",
    "# 結果を表示\n",
    "print(\"型番ごとの必要CT数:\")\n",
    "print(model_ct_sum)\n",
    "print(\"\\n型番ごとの金額:\")\n",
    "print(model_price_sum)"
   ]
  },
  {
   "cell_type": "markdown",
   "metadata": {},
   "source": [
    "CTはそろったので、必要な電力計数を算出したい"
   ]
  },
  {
   "cell_type": "code",
   "execution_count": 90,
   "metadata": {},
   "outputs": [
    {
     "data": {
      "text/plain": [
       "np.float64(765380.0)"
      ]
     },
     "execution_count": 90,
     "metadata": {},
     "output_type": "execute_result"
    }
   ],
   "source": [
    "case_2['小計'].sum()"
   ]
  },
  {
   "cell_type": "code",
   "execution_count": 91,
   "metadata": {},
   "outputs": [
    {
     "data": {
      "text/plain": [
       "np.float64(191.0)"
      ]
     },
     "execution_count": 91,
     "metadata": {},
     "output_type": "execute_result"
    }
   ],
   "source": [
    "case_2['必要CT数'].sum()"
   ]
  },
  {
   "cell_type": "code",
   "execution_count": 92,
   "metadata": {},
   "outputs": [
    {
     "name": "stdout",
     "output_type": "stream",
     "text": [
      "型番ごとの必要CT数:\n",
      "型番\n",
      "KM-NCT-100A     34.0\n",
      "KM-NCT-225A     61.0\n",
      "KM-NCT-400A     49.0\n",
      "KM-NCT-600A     12.0\n",
      "M-NCT-5A/50A    35.0\n",
      "Name: 必要CT数, dtype: float64\n",
      "\n",
      "全体の必要CT数:\n",
      "191.0\n",
      "\n",
      "型番ごとの必要CT数の合計と全体の必要CT数は一致します。\n"
     ]
    }
   ],
   "source": [
    "# 型番ごとの必要CT数を再計算\n",
    "model_ct_sum = case_2.groupby('型番')['必要CT数'].sum()\n",
    "\n",
    "# 全体の必要CT数を再計算\n",
    "total_ct_sum = case_2['必要CT数'].sum()\n",
    "\n",
    "# 結果を表示\n",
    "print(\"型番ごとの必要CT数:\")\n",
    "print(model_ct_sum)\n",
    "print(\"\\n全体の必要CT数:\")\n",
    "print(total_ct_sum)\n",
    "\n",
    "# 型番ごとの必要CT数の合計と全体の必要CT数が一致するか確認\n",
    "if model_ct_sum.sum() == total_ct_sum:\n",
    "    print(\"\\n型番ごとの必要CT数の合計と全体の必要CT数は一致します。\")\n",
    "else:\n",
    "    print(\"\\n型番ごとの必要CT数の合計と全体の必要CT数は一致しません。\")\n",
    "    print(f\"型番ごとの必要CT数の合計: {model_ct_sum.sum()}\")\n",
    "    print(f\"全体の必要CT数: {total_ct_sum}\")"
   ]
  },
  {
   "cell_type": "code",
   "execution_count": 93,
   "metadata": {},
   "outputs": [],
   "source": [
    "case_2.to_csv('case_2.csv', index=False)"
   ]
  },
  {
   "cell_type": "code",
   "execution_count": 95,
   "metadata": {},
   "outputs": [
    {
     "data": {
      "text/plain": [
       "Index(['No.', '建屋', '階', '部屋名', '部署', '分電盤\\nNo.', '分電盤名', '親分電盤\\n(あれば)',\n",
       "       '電力量計\\nあり/なし', 'ﾌﾞﾚｰｶ番号\\n(あれば)', '電圧\\n200/100', '相\\n3/1', 'ﾌﾞﾚｰｶ容量\\nA',\n",
       "       '負荷名', 'ｹｰﾌﾞﾙ径\\nmm', '備考', '電力量計\\n取付対象', '線', '型番', '単価', '必要CT数', '小計',\n",
       "       '電力計', '電力計単価', 'M5Stack', 'M5Stack単価'],\n",
       "      dtype='object')"
      ]
     },
     "execution_count": 95,
     "metadata": {},
     "output_type": "execute_result"
    }
   ],
   "source": [
    "case_2.columns"
   ]
  },
  {
   "cell_type": "code",
   "execution_count": 96,
   "metadata": {},
   "outputs": [
    {
     "name": "stdout",
     "output_type": "stream",
     "text": [
      "1L-1\n",
      "2\n",
      "1M-1\n",
      "4\n",
      "2L-1\n",
      "5\n",
      "3L-1\n",
      "6\n",
      "L-1南側外灯電源盤\n",
      "6\n",
      "L33-1A\n",
      "7\n",
      "L33-1B\n",
      "8\n",
      "L33-2A(右)\n",
      "9\n",
      "L33-2A(左)\n",
      "10\n",
      "L33-2E\n",
      "11\n",
      "L33-3(検査)\n",
      "12\n",
      "L33-3A\n",
      "13\n",
      "M33-1A\n",
      "14\n",
      "M33-1B\n",
      "15\n",
      "M33-1B-1\n",
      "16\n",
      "M33-1F\n",
      "16\n",
      "M33-1G\n",
      "17\n",
      "M33-1H(右)\n",
      "18\n",
      "M33-1H(左)\n",
      "20\n",
      "M33-1I\n",
      "22\n",
      "M33-1J\n",
      "23\n",
      "M33-1J-1(1)\n",
      "23\n",
      "M33-1J-1(2)\n",
      "23\n",
      "M33-1K\n",
      "29\n",
      "M33-1K-1\n",
      "29\n",
      "M33-1L\n",
      "32\n",
      "M33-1N(A)\n",
      "33\n",
      "M33-1N(B)\n",
      "36\n",
      "M33-1W\n",
      "41\n",
      "M33-1W-1盤\n",
      "42\n",
      "M33-2A\n",
      "43\n",
      "M33-2F\n",
      "44\n",
      "M33-3(再研)\n",
      "45\n",
      "M33-31(NT)\n",
      "46\n",
      "M33-3-1(再研)\n",
      "46\n",
      "M33-3A\n",
      "47\n",
      "M33-3B\n",
      "48\n",
      "M33-4D\n",
      "49\n",
      "ML-2\n",
      "50\n",
      "ML-30\n",
      "51\n",
      "ML33-4A\n",
      "52\n",
      "PAC-1\n",
      "53\n",
      "SE-3 A盤\n",
      "54\n",
      "SE-3 B盤\n",
      "55\n",
      "ﾀﾞｸﾄﾌｧﾝ操作盤\n",
      "56\n",
      "ﾌｧﾝ制御盤\n",
      "56\n",
      "ﾎﾙﾀﾞ測定室分電盤\n",
      "56\n",
      "ﾚｰｽｳｪｲ分電盤\n",
      "57\n",
      "ﾜｲﾔｰ加工電源盤\n",
      "58\n",
      "局所排気制御盤\n",
      "58\n",
      "局所排気設備制御盤\n",
      "59\n",
      "局所排気設備制御盤電源盤\n",
      "60\n",
      "局所排気装置動力盤\n",
      "60\n",
      "空調ｴｱﾊﾝ運転盤\n",
      "60\n",
      "空調動力盤\n",
      "61\n",
      "工具1F動力M-1(左)\n",
      "61\n",
      "工具1F動力M-2(中)\n",
      "61\n",
      "工具1F動力M-3(右)\n",
      "61\n",
      "工具EHP→工具空調機動力盤\n",
      "64\n",
      "工具FAN制御盤\n",
      "65\n",
      "工具L-1\n",
      "66\n",
      "工具L-2\n",
      "67\n",
      "工具M-1\n",
      "68\n",
      "工具M-1-2\n",
      "69\n",
      "工具ﾚｲｱｳﾄA盤\n",
      "70\n",
      "工具ﾚｲｱｳﾄB盤\n",
      "71\n",
      "工具電灯関係\n",
      "72\n",
      "恒温ﾌﾞｰｽ用動力盤\n",
      "72\n",
      "手元開閉盤\n",
      "72\n",
      "洗浄機盤\n",
      "72\n",
      "電源盤\n",
      "72\n",
      "電灯盤L-2\n",
      "73\n",
      "電灯盤ML-B.C.D\n",
      "74\n",
      "動力盤1M-1-1\n",
      "74\n",
      "動力盤A\n",
      "75\n",
      "動力盤B\n",
      "75\n",
      "動力盤C\n",
      "75\n",
      "動力盤D\n",
      "76\n",
      "動力分電盤\n",
      "77\n",
      "熱源制御盤\n",
      "78\n",
      "排気ﾌｧﾝ操作盤\n",
      "78\n",
      "排熱ﾀﾞｸﾄ盤\n",
      "78\n",
      "盤名なし\n",
      "78\n"
     ]
    }
   ],
   "source": [
    "# 電力計の連番を振るためのカウンタ\n",
    "power_meter_counter = 1\n",
    "\n",
    "# 電力計の連番を格納するリスト\n",
    "power_meter_list = []\n",
    "\n",
    "panel_name_unique = case_2['分電盤名'].unique()\n",
    "\n",
    "# 分電盤ごとに処理を行う\n",
    "for panel in panel_name_unique:\n",
    "    print(panel)\n",
    "    panel_data = case_2[case_2['分電盤名'] == panel].reset_index(drop=True)\n",
    "    ct_count = 0\n",
    "    for index, row in panel_data.iterrows():\n",
    "        if pd.notnull(row['必要CT数']):\n",
    "            ct_count += row['必要CT数']\n",
    "            if ct_count <= 4:\n",
    "                power_meter_list.append(f'電力計_{power_meter_counter}')\n",
    "            else:\n",
    "                power_meter_counter += 1\n",
    "                ct_count = row['必要CT数']\n",
    "                power_meter_list.append(f'電力計_{power_meter_counter}')\n",
    "        else:\n",
    "            power_meter_list.append(None)\n",
    "    if panel_data['電力量計\\n取付対象'].sum() > 0:\n",
    "        power_meter_counter += 1\n",
    "\n",
    "    if power_meter_counter == 37:\n",
    "        print('HIT')\n",
    "    print(power_meter_counter)\n",
    "\n",
    "# 電力計の連番をデータフレームに追加\n",
    "case_2['電力計'] = power_meter_list\n"
   ]
  },
  {
   "cell_type": "code",
   "execution_count": 97,
   "metadata": {},
   "outputs": [],
   "source": [
    "del case_2['電力計単価']"
   ]
  },
  {
   "cell_type": "code",
   "execution_count": 98,
   "metadata": {},
   "outputs": [],
   "source": [
    "filled = []\n",
    "for index,row in case_2.iterrows():\n",
    "    if pd.notnull(row['電力計']):\n",
    "        if not row['電力計'] in filled:\n",
    "            filled.append(row['電力計'])\n",
    "            case_2.at[index,'電力計単価'] = 11640\n"
   ]
  },
  {
   "cell_type": "code",
   "execution_count": 99,
   "metadata": {},
   "outputs": [
    {
     "data": {
      "text/plain": [
       "765380"
      ]
     },
     "execution_count": 99,
     "metadata": {},
     "output_type": "execute_result"
    }
   ],
   "source": [
    "int(case_2['小計'].sum())"
   ]
  },
  {
   "cell_type": "code",
   "execution_count": 100,
   "metadata": {},
   "outputs": [
    {
     "data": {
      "text/plain": [
       "884640"
      ]
     },
     "execution_count": 100,
     "metadata": {},
     "output_type": "execute_result"
    }
   ],
   "source": [
    "int(case_2['電力計単価'].sum())"
   ]
  },
  {
   "cell_type": "code",
   "execution_count": 101,
   "metadata": {},
   "outputs": [],
   "source": [
    "# M5Stackの連番を振るためのカウンタ\n",
    "m5stack_counter = 1\n",
    "\n",
    "# M5Stackの連番を格納するリスト\n",
    "m5stack_list = []\n",
    "\n",
    "# 分電盤ごとに処理を行う\n",
    "for panel in case_2['分電盤名'].unique():\n",
    "    panel_data = case_2[case_2['分電盤名'] == panel]\n",
    "    power_meter_count = 0\n",
    "    for index, row in panel_data.iterrows():\n",
    "        if pd.notnull(row['電力計']):\n",
    "            power_meter_count += 1\n",
    "            if power_meter_count > 2:\n",
    "                m5stack_counter += 1\n",
    "                power_meter_count = 1\n",
    "            m5stack_list.append(f'M5Stack_{m5stack_counter}')\n",
    "        else:\n",
    "            m5stack_list.append(None)\n",
    "    if panel_data['電力量計\\n取付対象'].sum() > 0:\n",
    "        m5stack_counter += 1\n",
    "\n",
    "# M5Stackの連番をデータフレームに追加\n",
    "case_2['M5Stack'] = m5stack_list"
   ]
  },
  {
   "cell_type": "code",
   "execution_count": 102,
   "metadata": {},
   "outputs": [],
   "source": [
    "filled = []\n",
    "for index,row in case_2.iterrows():\n",
    "    if pd.notnull(row['M5Stack']):\n",
    "        if not row['M5Stack'] in filled:\n",
    "            filled.append(row['M5Stack'])\n",
    "            case_2.at[index,'M5Stack単価'] = 7000"
   ]
  },
  {
   "cell_type": "code",
   "execution_count": 103,
   "metadata": {},
   "outputs": [
    {
     "data": {
      "text/plain": [
       "765380"
      ]
     },
     "execution_count": 103,
     "metadata": {},
     "output_type": "execute_result"
    }
   ],
   "source": [
    "int(case_2['小計'].sum())"
   ]
  },
  {
   "cell_type": "code",
   "execution_count": 105,
   "metadata": {},
   "outputs": [
    {
     "data": {
      "text/plain": [
       "884640"
      ]
     },
     "execution_count": 105,
     "metadata": {},
     "output_type": "execute_result"
    }
   ],
   "source": [
    "int(case_2['電力計単価'].sum())"
   ]
  },
  {
   "cell_type": "code",
   "execution_count": 106,
   "metadata": {},
   "outputs": [
    {
     "data": {
      "text/plain": [
       "539000"
      ]
     },
     "execution_count": 106,
     "metadata": {},
     "output_type": "execute_result"
    }
   ],
   "source": [
    "int(case_2['M5Stack単価'].sum())"
   ]
  },
  {
   "cell_type": "code",
   "execution_count": 107,
   "metadata": {},
   "outputs": [],
   "source": [
    "case_2.to_excel('ブレーカ調査/CASE2_主幹のみ.xlsx', index=False)"
   ]
  },
  {
   "cell_type": "code",
   "execution_count": null,
   "metadata": {},
   "outputs": [],
   "source": []
  }
 ],
 "metadata": {
  "kernelspec": {
   "display_name": ".venv",
   "language": "python",
   "name": "python3"
  },
  "language_info": {
   "codemirror_mode": {
    "name": "ipython",
    "version": 3
   },
   "file_extension": ".py",
   "mimetype": "text/x-python",
   "name": "python",
   "nbconvert_exporter": "python",
   "pygments_lexer": "ipython3",
   "version": "3.10.6"
  }
 },
 "nbformat": 4,
 "nbformat_minor": 2
}
