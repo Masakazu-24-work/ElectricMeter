{
 "cells": [
  {
   "cell_type": "code",
   "execution_count": 3,
   "metadata": {},
   "outputs": [
    {
     "data": {
      "text/plain": [
       "'tree.png'"
      ]
     },
     "execution_count": 3,
     "metadata": {},
     "output_type": "execute_result"
    }
   ],
   "source": [
    "from graphviz import Digraph\n",
    "\n",
    "G = Digraph(format=\"png\")\n",
    "G.attr(\"node\", shape=\"box\")\n",
    "edges = [(0, 1), (0, 95), (1, 2), (1, 4), (1, 94), (2, 3), (4, 5), (4, 92), (5, 6),\n",
    "(6, 7), (6, 79), (6, 90), (6, 91), (7, 8), (7, 34), (7, 76), (7, 78), (8, 9), (8, 10), (8, 11),\n",
    "(11, 12), (12, 13), (12, 28), (12, 29), (13, 14), (13, 21), (13, 25), (13, 26), (14, 15), (14, 17), (14, 18), (14, 20),\n",
    "(15, 16), (18, 19), (21, 22), (21, 24), (22, 23), (26, 27), (29, 30), (30, 31), (31, 32), (31, 33),\n",
    "(34, 35), (34, 70), (34, 71), (34, 72), (35, 36), (35, 37), (35, 56), (35, 64), (37, 38), (37, 53), (37, 55),\n",
    "(38, 39), (39, 40), (40, 41), (40, 44), (40, 47), (40, 51), (40, 52), (41, 42), (42, 43), (44, 45), (44, 46),\n",
    "(47, 48), (48, 49), (49, 50), (53, 54), (56, 57), (57, 58), (57, 59), (59, 60), (60, 61), (60, 62), (60, 63),\n",
    "(64, 65), (64, 66), (66, 67), (66, 69), (67, 68), (72, 73), (73, 74), (74, 75), (76, 77), (79, 80), (80, 81), (80, 87),\n",
    "(81, 82), (81, 86), (82, 83), (82, 84), (82, 85), (87, 88), (88, 89), (92, 93), (95, 96), (95, 98), (96, 97),\n",
    "(98, 99), (98, 100), (98, 101), (101, 102), (102, 103), (103, 104), (103, 105), (105, 106), (105, 107), (105, 108)]\n",
    "for i,j in edges:\n",
    "    G.edge(str(i), str(j))\n",
    "G.render(\"tree\")"
   ]
  },
  {
   "cell_type": "code",
   "execution_count": 4,
   "metadata": {},
   "outputs": [],
   "source": [
    "import pandas as pd\n",
    "import openpyxl\n",
    "\n",
    "df = pd.read_excel(\"ブレーカ調査\\案1_30A以上_計算結果_241205.xlsx\",header=1)"
   ]
  },
  {
   "cell_type": "code",
   "execution_count": 6,
   "metadata": {},
   "outputs": [
    {
     "data": {
      "text/plain": [
       "Index(['No.', '建屋', '階', '部屋名', '部署', '分電盤\\nNo.', '分電盤名', '親分電盤\\n(あれば)',\n",
       "       '電力量計\\nあり/なし', 'ﾌﾞﾚｰｶ番号\\n(あれば)', '電圧\\n200/100', '相\\n3/1', 'ﾌﾞﾚｰｶ容量\\nA',\n",
       "       '負荷名', 'ｹｰﾌﾞﾙ径\\nmm', '備考', '電力量計\\n取付対象', '線', '型番', '単価', '必要CT数', '小計',\n",
       "       '電力計', '電力計単価', 'M5Stack', 'M5Stack単価'],\n",
       "      dtype='object')"
      ]
     },
     "execution_count": 6,
     "metadata": {},
     "output_type": "execute_result"
    }
   ],
   "source": [
    "df.columns"
   ]
  },
  {
   "cell_type": "code",
   "execution_count": 42,
   "metadata": {},
   "outputs": [],
   "source": [
    "df_filtered = df.copy()"
   ]
  },
  {
   "cell_type": "code",
   "execution_count": 43,
   "metadata": {},
   "outputs": [],
   "source": [
    "build = df_filtered[['建屋',\"分電盤名\"]].drop_duplicates().reset_index(drop=True)"
   ]
  },
  {
   "cell_type": "code",
   "execution_count": 44,
   "metadata": {},
   "outputs": [
    {
     "name": "stdout",
     "output_type": "stream",
     "text": [
      "      A            B\n",
      "0   3-3       L33-1A\n",
      "1   3-3       M33-1A\n",
      "2   3-3       M33-1W\n",
      "3   3-3    M33-1W-1盤\n",
      "4   3-3     排気ﾌｧﾝ操作盤\n",
      "..  ...          ...\n",
      "78  1-1      SE-3 A盤\n",
      "79  1-1        手元開閉盤\n",
      "80  1-1       電灯盤L-2\n",
      "81  1-1    ﾚｰｽｳｪｲ分電盤\n",
      "82  1-1  電灯盤ML-B.C.D\n",
      "\n",
      "[83 rows x 2 columns]\n"
     ]
    }
   ],
   "source": [
    "build = build.rename(columns={'建屋': 'A', '分電盤名': 'B'})\n",
    "print(build)"
   ]
  },
  {
   "cell_type": "code",
   "execution_count": 45,
   "metadata": {},
   "outputs": [],
   "source": [
    "df_filtered= df_filtered[[\"分電盤名\",\"親分電盤\\n(あれば)\"]].drop_duplicates().reset_index(drop=True)"
   ]
  },
  {
   "cell_type": "code",
   "execution_count": 46,
   "metadata": {},
   "outputs": [],
   "source": [
    "df_filtered = df_filtered.rename(columns={'分電盤名': 'A', '親分電盤\\n(あれば)': 'B'})"
   ]
  },
  {
   "cell_type": "code",
   "execution_count": 47,
   "metadata": {},
   "outputs": [],
   "source": [
    "join = pd.concat([build,df_filtered],axis=0).reset_index(drop=True)"
   ]
  },
  {
   "cell_type": "code",
   "execution_count": 52,
   "metadata": {},
   "outputs": [
    {
     "data": {
      "text/plain": [
       "'hierarchy_tree.png'"
      ]
     },
     "execution_count": 52,
     "metadata": {},
     "output_type": "execute_result"
    }
   ],
   "source": [
    "# Reinitialize the Digraph object to clear existing edges\n",
    "G = Digraph(format=\"png\")\n",
    "G.attr(\"node\", shape=\"box\", fontname=\"MS Gothic\")\n",
    "G.attr(\"edge\", splines=\"polyline\")\n",
    "\n",
    "# Add nodes and edges from join\n",
    "for index, row in join.iterrows():\n",
    "    if pd.notna(row[\"B\"]):\n",
    "        G.node(str(row[\"A\"]), label=str(row[\"A\"]))\n",
    "        G.node(str(row[\"B\"]), label=str(row[\"B\"]))\n",
    "        G.edge(str(row[\"A\"]), str(row[\"B\"]))\n",
    "    else:\n",
    "        G.node(str(row[\"A\"]), label=str(row[\"A\"]))\n",
    "\n",
    "# Render the updated graph with UTF-8 encoding\n",
    "G.attr(encoding='UTF-8')\n",
    "G.render(\"hierarchy_tree\")"
   ]
  },
  {
   "cell_type": "code",
   "execution_count": 50,
   "metadata": {},
   "outputs": [
    {
     "data": {
      "text/plain": [
       "'tree_updated.png'"
      ]
     },
     "execution_count": 50,
     "metadata": {},
     "output_type": "execute_result"
    }
   ],
   "source": [
    "# Reinitialize the Digraph object to clear existing edges\n",
    "G = Digraph(format=\"png\")\n",
    "G.attr(\"node\", shape=\"box\", fontname=\"MS Gothic\")\n",
    "\n",
    "# Add nodes and edges from join\n",
    "for index, row in join.iterrows():\n",
    "    G.node(str(row[\"A\"]), label=str(row[\"A\"]))\n",
    "    G.node(str(row[\"B\"]), label=str(row[\"B\"]))\n",
    "    G.edge(str(row[\"B\"]), str(row[\"A\"]))\n",
    "\n",
    "\n",
    "# Render the updated graph with UTF-8 encoding\n",
    "G.attr(encoding='UTF-8')\n",
    "G.render(\"tree_updated\")"
   ]
  },
  {
   "cell_type": "code",
   "execution_count": null,
   "metadata": {},
   "outputs": [],
   "source": []
  },
  {
   "cell_type": "code",
   "execution_count": null,
   "metadata": {},
   "outputs": [],
   "source": []
  }
 ],
 "metadata": {
  "kernelspec": {
   "display_name": ".venv",
   "language": "python",
   "name": "python3"
  },
  "language_info": {
   "codemirror_mode": {
    "name": "ipython",
    "version": 3
   },
   "file_extension": ".py",
   "mimetype": "text/x-python",
   "name": "python",
   "nbconvert_exporter": "python",
   "pygments_lexer": "ipython3",
   "version": "3.10.6"
  }
 },
 "nbformat": 4,
 "nbformat_minor": 2
}
